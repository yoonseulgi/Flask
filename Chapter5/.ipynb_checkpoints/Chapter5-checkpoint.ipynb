{
 "cells": [
  {
   "cell_type": "markdown",
   "id": "7383c704-4643-4fa8-8255-e7c6761930c5",
   "metadata": {},
   "source": [
    "# 5장. User Logins"
   ]
  },
  {
   "cell_type": "markdown",
   "id": "7ea525f3-b3c4-4cb9-aeda-e80f62d779f3",
   "metadata": {},
   "source": [
    "#### Password Hashing"
   ]
  },
  {
   "cell_type": "markdown",
   "id": "d4bb2ce8-ef6d-45ad-b063-b230c594b926",
   "metadata": {},
   "source": [
    "- 응용 프로그램에서 호출하기 쉬운 방식으로 구현하기 위한 라이브러리 사용"
   ]
  },
  {
   "cell_type": "markdown",
   "id": "6ebb21b2-827b-4b93-89c3-4d6b8cc50429",
   "metadata": {},
   "source": [
    "##### password를 해시하는 함수"
   ]
  },
  {
   "cell_type": "code",
   "execution_count": null,
   "id": "60b57dba-9dbe-4dfb-9a4d-aa7a4d0f27d9",
   "metadata": {},
   "outputs": [],
   "source": [
    "from werkzeug.security import generate_password_hash\n",
    "hash = generate_password_hash('foobar')\n",
    "hash"
   ]
  },
  {
   "cell_type": "markdown",
   "id": "ec4b82d0-a453-4280-aea0-d72ade694d87",
   "metadata": {},
   "source": [
    "##### password가 같은 값인지 확인하는 함수"
   ]
  },
  {
   "cell_type": "code",
   "execution_count": null,
   "id": "7dd7a822-9c91-4bfa-bd65-dd8f0bf09035",
   "metadata": {},
   "outputs": [],
   "source": [
    "check_password_hash(hash, 'foobar')\n",
    "True    //return value\n",
    "check_password_hash(hash, 'barfoo')\n",
    "False   //return value "
   ]
  },
  {
   "cell_type": "markdown",
   "id": "de2f3931-2a1e-4a50-901b-ceb8e968cbe0",
   "metadata": {},
   "source": [
    "#### Introduction to Flask-Login"
   ]
  },
  {
   "cell_type": "markdown",
   "id": "0cc1f276-7366-4008-93d7-343ecac82459",
   "metadata": {},
   "source": [
    "- 사용자가 로그인한 상태를 유지하고, 브라우저를 닫은 후에도 로그인 상태 유지 가능하게 해주는 패키지\n",
    "- pip install flask-login 통해 패키지 설치"
   ]
  },
  {
   "cell_type": "markdown",
   "id": "8c0e8708-dcba-497c-aeb5-df8aef9bc0ba",
   "metadata": {},
   "source": [
    "#### Preparing The User Model for Flask-Login"
   ]
  },
  {
   "cell_type": "markdown",
   "id": "53b582a9-312e-46e9-83e1-4bcaf7212468",
   "metadata": {},
   "source": [
    "- is_authenticated: 사용자에게 유효한 자격이 있으면 True, 없으면 False \n",
    "- is_active: 사용자 계정이 활성화되면 True, 아니면 False\n",
    "- is_anonymous: 익명 사용자 Ture, 일반사용자 False\n",
    "- get_id(): 사용자의 고유 식별자 반환\n"
   ]
  },
  {
   "cell_type": "markdown",
   "id": "b00e5099-131c-419a-8d29-8c6d161a596a",
   "metadata": {},
   "source": [
    "#### User Loader Function"
   ]
  },
  {
   "cell_type": "markdown",
   "id": "c080e301-71e3-49d3-aef0-9f9b1a15db48",
   "metadata": {},
   "source": [
    "- 각 사용자에게 할당된 저장 공간인 사용자 세션에 고유 식별자를 저장하여 사용자 추적\n",
    "- Flask-Login은 사용자를 로드하는데 응용 프로그램 사용해야 하기에 user loader function 구현이 필요\n",
    "- 사용자 로더는 @login.user_loader 데코레이터를 사용하여 사용자를 저장공간에 로드"
   ]
  },
  {
   "cell_type": "markdown",
   "id": "e2600d37-5a27-47c5-8834-3a6993ebb7a6",
   "metadata": {},
   "source": [
    "#### Logging Users Out"
   ]
  },
  {
   "cell_type": "markdown",
   "id": "60043c3d-bd00-4712-a6a1-196a9e6dd825",
   "metadata": {},
   "source": [
    "- 사용자의 로그인 상태를 자동으로 로그아웃 상태로 전환\n",
    "- base.html 템플릿에 정의"
   ]
  },
  {
   "cell_type": "markdown",
   "id": "49e52d35-4e77-497b-8475-6ab61521bd87",
   "metadata": {},
   "source": [
    "#### Requiring Users To Login"
   ]
  },
  {
   "cell_type": "markdown",
   "id": "8fa759d1-4feb-41e8-9955-6af6c647aea1",
   "metadata": {},
   "source": [
    "- 사용자가 특정 페이지를 접속하기 전에 로그인하도록 하는 기능 제공\n",
    "- 사용자가 로그인하지 않으면 이전 페이지로 돌아가는 기능 제공\n",
    "- url로 악의적인 url이 입력될 수 있음을 주의"
   ]
  },
  {
   "cell_type": "code",
   "execution_count": null,
   "id": "502cdab3-0657-4249-bf74-f55a1b4809e6",
   "metadata": {},
   "outputs": [],
   "source": [
    "@app.route('/login', methods=['GET', 'POST'])\n",
    "def login():\n",
    "    # ...\n",
    "    if form.validate_on_submit():\n",
    "        user = User.query.filter_by(username=form.username.data).first()\n",
    "        if user is None or not user.check_password(form.password.data):\n",
    "            flash('Invalid username or password')\n",
    "            return redirect(url_for('login'))\n",
    "        login_user(user, remember=form.remember_me.data)\n",
    "        next_page = request.args.get('next')\n",
    "        if not next_page or url_parse(next_page).netloc != '':\n",
    "            next_page = url_for('index')\n",
    "        return redirect(next_page)"
   ]
  },
  {
   "cell_type": "markdown",
   "id": "04e9f766-fc51-42b4-afd0-654971782519",
   "metadata": {},
   "source": [
    "#### User Registration"
   ]
  },
  {
   "cell_type": "markdown",
   "id": "8c500556-8700-422e-8780-96b48a02e160",
   "metadata": {},
   "source": [
    "- 사용자가 웹양식을 통해 등록할 수 있도록 도와주는 기능\n",
    "- 사용자에게 비밀번호를 두 번 입력받도록 요청(EqualTo 함수 사용)"
   ]
  },
  {
   "cell_type": "code",
   "execution_count": null,
   "id": "84c4136e-aeb5-41e4-ba41-5baedd6161c4",
   "metadata": {},
   "outputs": [],
   "source": []
  },
  {
   "cell_type": "code",
   "execution_count": null,
   "id": "2e28dcc1-d275-41de-9268-8109e516e10b",
   "metadata": {},
   "outputs": [],
   "source": []
  }
 ],
 "metadata": {
  "kernelspec": {
   "display_name": "Python 3",
   "language": "python",
   "name": "python3"
  },
  "language_info": {
   "codemirror_mode": {
    "name": "ipython",
    "version": 3
   },
   "file_extension": ".py",
   "mimetype": "text/x-python",
   "name": "python",
   "nbconvert_exporter": "python",
   "pygments_lexer": "ipython3",
   "version": "3.8.8"
  }
 },
 "nbformat": 4,
 "nbformat_minor": 5
}
