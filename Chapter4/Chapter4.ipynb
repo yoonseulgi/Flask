{
 "cells": [
  {
   "cell_type": "markdown",
   "id": "b4b3b72f-deef-442d-b4e6-c6954f99c5b5",
   "metadata": {},
   "source": [
    "# 4장. Database"
   ]
  },
  {
   "cell_type": "markdown",
   "id": "d4cc04ba-5938-4724-baa0-965ee3497a12",
   "metadata": {},
   "source": [
    "### Database in Flask"
   ]
  },
  {
   "cell_type": "markdown",
   "id": "eb8503f6-95ae-4517-8e51-ff700dc0b912",
   "metadata": {},
   "source": [
    "- Flask는 DB를 지원하지 않음\n",
    "- 강제로 Flask에서 제공하는 DB만 사용하지 않아도 되는 장점이 있음\n",
    "- python 및 flask에 친화적인 sqlalchemy 사용"
   ]
  },
  {
   "cell_type": "markdown",
   "id": "3ed97fd3-c7d1-4aec-a51e-a5b5b6912fd4",
   "metadata": {
    "tags": []
   },
   "source": [
    "### Database Migrations"
   ]
  },
  {
   "cell_type": "markdown",
   "id": "2af78725-a9c8-40ae-bb85-80848334a637",
   "metadata": {},
   "source": [
    "- DB에 변동이 생겼을 때 반영이 편리"
   ]
  },
  {
   "cell_type": "markdown",
   "id": "71d80ca7-9b2b-4eb8-acee-209d7b901cfb",
   "metadata": {},
   "source": [
    "### Database Models"
   ]
  },
  {
   "cell_type": "markdown",
   "id": "2fda0570-8bbb-41ee-93bb-d0ce193d3239",
   "metadata": {},
   "source": [
    "- DB에 저장될 데이터는 일반적으로 DB 모델이라는 클래스 모음으로 표시\n",
    "- id값 자동 할당\n",
    "- username, email 및 password_hash 필드는 문자열로 정의\n",
    "- password_hash 필드는 보안에 신경\n",
    "- User 클래스는 Flask-SQLAlchemy의 모든 모델에 대한 기본 클래스를 상속받음\n",
    "- __repr__ 메서드는 파이썬에게 객체를 어떻게 print할 것인지 명세하는 메서드"
   ]
  },
  {
   "cell_type": "markdown",
   "id": "1f5ab2f3-0198-4e1a-8650-fb4778fe966b",
   "metadata": {},
   "source": [
    "### Creating The Migration Repository"
   ]
  },
  {
   "cell_type": "markdown",
   "id": "9c9fdad5-1a2e-4dcf-adad-6ef675675a0e",
   "metadata": {},
   "source": [
    "- Alembic은 Flask-Migrate에서 사용하는 마이그레이션 프레임워크로 응용 프로그램의 변경이 일어나면 DB를 다시 만드는 불필요함을 제거\n",
    "- 마이그레이션 스크립트는 생성된 순서대로 실행"
   ]
  },
  {
   "cell_type": "markdown",
   "id": "a27bf6a3-03af-4833-a3cb-72992d136feb",
   "metadata": {},
   "source": [
    "### The First Database Migration"
   ]
  },
  {
   "cell_type": "markdown",
   "id": "783755e7-0ece-4f10-a063-26d9e3e311de",
   "metadata": {},
   "source": [
    "- 사용자 DB 모델에 매핑되는 사용자 테이블을 포함하는 DB의 마이그레이션을 생성\n",
    "- 자동생성: Alembic은 DB 모델에 의해 정의된 DB 스키마를 현재 DB에서 사용되는 실제 DB 스키마와 비교하여 일치하도록 하여 스크립트를 작성\n"
   ]
  },
  {
   "cell_type": "markdown",
   "id": "e797a15c-6fd5-4ca3-aacb-fdef492dcd46",
   "metadata": {},
   "source": [
    "### Database Upgrade and Downgrade Workflow"
   ]
  },
  {
   "cell_type": "markdown",
   "id": "09f0742a-ec19-42a9-a3cd-562d0d1a2cf0",
   "metadata": {},
   "source": [
    "- upgrade(): 마이그레이션 적용\n",
    "- downgrade(): 마이그레이션 제거"
   ]
  },
  {
   "cell_type": "markdown",
   "id": "cbbed1f6-8fc0-4486-808f-71ac48fca10b",
   "metadata": {},
   "source": [
    "### Database Relationships"
   ]
  },
  {
   "cell_type": "markdown",
   "id": "b5c30c2d-0452-401b-8520-15cfde23ebfb",
   "metadata": {},
   "source": [
    "- 관계형 데이터베이스는 데이터 간의 관계를 잘 정의\n",
    "- 두 객체간의 링크를 설정하면 해당 링크를 통해 질의응답이 가능\n",
    "- 외래키: 다른 테이블의 기본키를 참조하고 있는 값\n",
    "- 관계는 일대다(하나의 사용자가 여러 게시글을 작성할 수 있기 때문에)"
   ]
  },
  {
   "cell_type": "markdown",
   "id": "4d738666-0680-4c49-9359-faedd46b90b4",
   "metadata": {},
   "source": [
    "#### User class\n"
   ]
  },
  {
   "cell_type": "markdown",
   "id": "e4a18625-6cd2-425c-a4ba-c917fa76432c",
   "metadata": {},
   "source": [
    "```python\n",
    "class User(db.Model):\n",
    "    id = db.Column(db.Integer, primary_key=True)\n",
    "    username = db.Column(db.String(64), index=True, unique=True)\n",
    "    email = db.Column(db.String(120), index=True, unique=True)\n",
    "    password_hash = db.Column(db.String(128))\n",
    "    posts = db.relationship('Post', backref='author', lazy='dynamic')\n",
    "```"
   ]
  },
  {
   "cell_type": "markdown",
   "id": "e0d38999-01dd-4914-bd16-eb8b45b1ec79",
   "metadata": {},
   "source": [
    "#### Post"
   ]
  },
  {
   "cell_type": "markdown",
   "id": "cb18a65d-b634-4c70-9a05-33f639fdafad",
   "metadata": {},
   "source": [
    "```python\n",
    "class Post(db.Model):\n",
    "    id = db.Column(db.Integer, primary_key=True)\n",
    "    body = db.Column(db.String(140))\n",
    "    timestamp = db.Column(db.DateTime, index=True, default=datetime.utcnow)\n",
    "    user_id = db.Column(db.Integer, db.ForeignKey('user.id'))\n",
    "```"
   ]
  },
  {
   "cell_type": "markdown",
   "id": "14da4bac-1ecd-4faa-bb22-5aafbfd78a18",
   "metadata": {},
   "source": [
    "- user_id는 User.id를 참조하는 외래키"
   ]
  },
  {
   "cell_type": "markdown",
   "id": "85d63a58-805a-4c73-befa-9c26d3d653a5",
   "metadata": {},
   "source": [
    "#### Playing with the Database"
   ]
  },
  {
   "cell_type": "markdown",
   "id": "f40b8baf-0a23-49bb-aa13-b2f17b8d211f",
   "metadata": {},
   "source": [
    "- 위와 같은 과정으로 정의한 DB는 python과 연동이 필요함\n",
    "- db.session(): DB의 변경 적용\n",
    "- db.session.commit(): 실행\n",
    "- db.session.rollback(): 모든 변경 사항이 제거"
   ]
  },
  {
   "cell_type": "markdown",
   "id": "51b4212f-4828-4725-b716-196d848ba8d9",
   "metadata": {},
   "source": [
    "* add user\n"
   ]
  },
  {
   "cell_type": "markdown",
   "id": "b909e1a2-5934-4456-a3e2-2c48cbe26854",
   "metadata": {},
   "source": [
    "```shell\n",
    ">> u = User(username='susan', email='susan@example.com')   \n",
    ">> db.session.add(u)   \n",
    ">> db.session.commit()\n",
    "```"
   ]
  },
  {
   "cell_type": "markdown",
   "id": "a40e208e-78b0-4802-8e2c-6c92fe765158",
   "metadata": {},
   "source": [
    "* query.all(모든 결과 return)      \n",
    "\n"
   ]
  },
  {
   "cell_type": "markdown",
   "id": "1ef2520b-969b-452d-85a8-35be38cd935e",
   "metadata": {},
   "source": [
    "```shell\n",
    ">> users = User.query.all()      \n",
    ">> for u in users:   \n",
    "...    print(u.id, u.username)\n",
    "```"
   ]
  },
  {
   "cell_type": "markdown",
   "id": "09a55301-f586-42cd-ab42-728dcc398952",
   "metadata": {},
   "source": [
    "* query.get(하나의 결과만 return)   \n",
    " "
   ]
  },
  {
   "cell_type": "markdown",
   "id": "c6ad47a5-e6ef-4b0b-ae51-5fca3f67b26f",
   "metadata": {},
   "source": [
    "```shell\n",
    ">> u = User.query.get(1)\n",
    ">> u \n",
    "```"
   ]
  },
  {
   "cell_type": "markdown",
   "id": "caee6fd7-eca3-4057-aab6-5a127de6ad32",
   "metadata": {},
   "source": [
    "\n"
   ]
  }
 ],
 "metadata": {
  "kernelspec": {
   "display_name": "Python 3",
   "language": "python",
   "name": "python3"
  },
  "language_info": {
   "codemirror_mode": {
    "name": "ipython",
    "version": 3
   },
   "file_extension": ".py",
   "mimetype": "text/x-python",
   "name": "python",
   "nbconvert_exporter": "python",
   "pygments_lexer": "ipython3",
   "version": "3.8.8"
  }
 },
 "nbformat": 4,
 "nbformat_minor": 5
}
