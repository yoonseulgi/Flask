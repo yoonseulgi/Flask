{
 "cells": [
  {
   "cell_type": "markdown",
   "id": "185393e7-8023-4e06-99c4-6f8acf34bd01",
   "metadata": {},
   "source": [
    "# 2장. Templates"
   ]
  },
  {
   "cell_type": "markdown",
   "id": "3d51dc7f-f6ae-4e3b-b785-a4bd9b5a1d59",
   "metadata": {},
   "source": [
    "### templates"
   ]
  },
  {
   "cell_type": "markdown",
   "id": "8bf158a5-06e8-4f3b-ae13-1b97672b3bf6",
   "metadata": {},
   "source": [
    "- mock object: 아직 만들어지지 않은 객체를 신경쓰지 않고 프로그램을 작성하는데 도움을 줌\n",
    "- HTML 정보를 text로 업데이트하는 일은 어려움\n",
    "- 프리젠테이션과 애플리케이션 논리를 분리\n",
    "- 템플릿은 위와 같이 프리젠테이션과 앱을 분리시키는데 도움을 줌\n",
    "- 템플릿은 앱 패키지 내부의 별로 파일로 저장\n",
    "- 템플릿을 렌더링 하려면 render_template() 프레임워크 사용"
   ]
  },
  {
   "cell_type": "markdown",
   "id": "82988c07-c446-4cf6-b967-70316b08fd9d",
   "metadata": {},
   "source": [
    "### Conditional Statements"
   ]
  },
  {
   "cell_type": "markdown",
   "id": "2c12310b-20f7-44e7-a297-0406da60d463",
   "metadata": {},
   "source": [
    " - {% ... %} 블록 안에 제어문을 작성하면 실행 가능"
   ]
  },
  {
   "cell_type": "markdown",
   "id": "5e0f7d60-435b-4e9c-8458-0515071568a1",
   "metadata": {},
   "source": [
    "### Inheritance"
   ]
  },
  {
   "cell_type": "markdown",
   "id": "314fe537-7302-43a6-adba-a911c16db888",
   "metadata": {},
   "source": [
    "- HTML은 여러 복사본을 유지하지 않는 것이 좋음\n",
    "- 이러한 문제를 해결하기 위해 Jinja2에서 상속기능을 제공 "
   ]
  },
  {
   "cell_type": "code",
   "execution_count": null,
   "id": "38fbd165-6ee2-4678-a37b-b84d87c09a10",
   "metadata": {},
   "outputs": [],
   "source": []
  }
 ],
 "metadata": {
  "kernelspec": {
   "display_name": "Python 3",
   "language": "python",
   "name": "python3"
  },
  "language_info": {
   "codemirror_mode": {
    "name": "ipython",
    "version": 3
   },
   "file_extension": ".py",
   "mimetype": "text/x-python",
   "name": "python",
   "nbconvert_exporter": "python",
   "pygments_lexer": "ipython3",
   "version": "3.8.8"
  }
 },
 "nbformat": 4,
 "nbformat_minor": 5
}
