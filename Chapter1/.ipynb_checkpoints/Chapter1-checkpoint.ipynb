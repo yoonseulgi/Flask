{
 "cells": [
  {
   "cell_type": "markdown",
   "id": "2d4a9be3-bfce-4e6a-a9f8-478a18af0347",
   "metadata": {},
   "source": [
    "# 1장. Hello, World!"
   ]
  },
  {
   "cell_type": "markdown",
   "id": "994ed902-cb64-4a86-8611-82487c852cd7",
   "metadata": {},
   "source": [
    "### __init__.py\n"
   ]
  },
  {
   "cell_type": "markdown",
   "id": "1d8010da-9602-4ee1-8b3a-f99bb44e50ee",
   "metadata": {},
   "source": [
    "- Flask 패키지에서 가져온 Flask 클래스의 인스턴스로 애플리케이션 객체를 생성\n",
    "- __name__변수는 사용되는 모듈의 이름을 의미\n",
    "- 앱 패키지는 1. 앱 디렉토리 2. __init__.py 스크립트로 구성\n",
    "- rout 모듈은 스크립트의 상단이 아닌 하단에서 import"
   ]
  },
  {
   "cell_type": "markdown",
   "id": "31f6c65f-d353-4a9a-8c95-dcb41346701e",
   "metadata": {},
   "source": [
    "### route 모듈"
   ]
  },
  {
   "cell_type": "markdown",
   "id": "e8ebfc6c-ac44-4011-9bfc-ad8de6830c80",
   "metadata": {},
   "source": [
    "- view func을 호출\n",
    "- view func은 하나 이상의 URL이 있고, client가 호출한 URL을 실행하기 위한 로직을 rout URL과 맵핑"
   ]
  },
  {
   "cell_type": "markdown",
   "id": "60bd3a32-7375-4a02-ae1b-9e7c3a151755",
   "metadata": {},
   "source": [
    "### microblog.py"
   ]
  },
  {
   "cell_type": "markdown",
   "id": "c14ff044-0b91-483e-89e4-9967d36fdd0f",
   "metadata": {},
   "source": [
    " - flask 응용 프로그램 인스턴스를 정의하는 최상위 수준의 python script\n",
    " - 애플리케이션 인스턴스를 가져옴"
   ]
  },
  {
   "cell_type": "code",
   "execution_count": null,
   "id": "c7818582-893e-4c60-b5ae-f52ea2acb0f3",
   "metadata": {},
   "outputs": [],
   "source": []
  }
 ],
 "metadata": {
  "kernelspec": {
   "display_name": "Python 3",
   "language": "python",
   "name": "python3"
  },
  "language_info": {
   "codemirror_mode": {
    "name": "ipython",
    "version": 3
   },
   "file_extension": ".py",
   "mimetype": "text/x-python",
   "name": "python",
   "nbconvert_exporter": "python",
   "pygments_lexer": "ipython3",
   "version": "3.8.8"
  }
 },
 "nbformat": 4,
 "nbformat_minor": 5
}
