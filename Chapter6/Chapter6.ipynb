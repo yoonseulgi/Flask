{
 "cells": [
  {
   "cell_type": "markdown",
   "id": "1548da33-c5a4-43db-9328-7939446f8ab3",
   "metadata": {},
   "source": [
    "# 6장. Profile Page and Avatars"
   ]
  },
  {
   "cell_type": "markdown",
   "id": "7087251b-a01e-4a33-8f2d-b66ece51c54f",
   "metadata": {},
   "source": [
    "- 사용자 정보가 표시되는 페이지 작성"
   ]
  },
  {
   "cell_type": "markdown",
   "id": "6f2c05f5-73f7-49ce-9a66-da3105a7bd87",
   "metadata": {},
   "source": [
    "#### User Profile Page"
   ]
  },
  {
   "cell_type": "markdown",
   "id": "beb0daba-bb6a-457e-8bd3-a692e79445e3",
   "metadata": {},
   "source": [
    "- 사용자의 프로필이 보여질 페이지를 작성\n",
    "- user.html을 통해 페이지를 선언 \n",
    "- 페이지를 만들기만 해선 브라우저가 존재하지 않음 즉, 링크해주는 과정이 필요함\n",
    "- base.html에 아래와 같은 문장을 추가하여 링크함"
   ]
  },
  {
   "cell_type": "code",
   "execution_count": null,
   "id": "b9e56146-d439-4bb4-9d06-c7889b1b7c45",
   "metadata": {},
   "outputs": [],
   "source": [
    "<a href=\"{{ url_for('user', username=current_user.username) }}\">Profile</a>"
   ]
  },
  {
   "cell_type": "markdown",
   "id": "6ba9060c-8bb9-4529-819d-0ad1a6152b12",
   "metadata": {},
   "source": [
    "- http://localhost:5000/user/username 과 같은 형식으로 사용자 프로필 페이지가 생성"
   ]
  },
  {
   "cell_type": "markdown",
   "id": "fa079934-862e-4ed1-8ded-5edb4cd4ab37",
   "metadata": {},
   "source": [
    "#### Avatars"
   ]
  },
  {
   "cell_type": "markdown",
   "id": "a6af3665-bdf0-4a0d-8391-b34981ec49fd",
   "metadata": {},
   "source": [
    "- 프로필 페이지에 사진을 추가\n",
    "- Gravatar 서비스 사용\n",
    "- Gravatar URL로 접속시 Gravatar가 나옴"
   ]
  },
  {
   "cell_type": "markdown",
   "id": "87cf347c-b5dc-433d-b72d-d84f8e061ed2",
   "metadata": {},
   "source": [
    "##### Gravatar URL 얻는 방법"
   ]
  },
  {
   "cell_type": "code",
   "execution_count": null,
   "id": "1bd082c6-820a-49ce-a00a-f42014dde510",
   "metadata": {},
   "outputs": [],
   "source": [
    "from hashlib import md5\n",
    "'https://www.gravatar.com/avatar/' + md5(b'john@example.com').hexdigest()\n",
    "'https://www.gravatar.com/avatar/d4c74594d841139328695756648b6bd6' //return URL"
   ]
  },
  {
   "cell_type": "markdown",
   "id": "13a27d90-3c05-4ec7-9265-ba0bc5c25ea3",
   "metadata": {},
   "source": [
    "- Avatars는 사용자 프로필과 연결되어 있기에 Gravatar URL을 생성하는 로직을 사용자 모델에 추가\n",
    "- 아래 함수를 models.py 모듈에 추가"
   ]
  },
  {
   "cell_type": "code",
   "execution_count": null,
   "id": "4b64a218-edae-4830-a94b-525a41fb6abb",
   "metadata": {},
   "outputs": [],
   "source": [
    "def avatar(self, size):\n",
    "    digest = md5(self.email.lower().encode('utf-8')).hexdigest()\n",
    "    return 'https://www.gravatar.com/avatar/{}?d=identicon&s={}'.format(\n",
    "        digest, size)"
   ]
  },
  {
   "cell_type": "markdown",
   "id": "17fc4b41-8c53-43d6-8e84-cae070796018",
   "metadata": {},
   "source": [
    "##### 섹션을 나눠 여러 개의 아바타 넣기\n"
   ]
  },
  {
   "cell_type": "code",
   "execution_count": null,
   "id": "3655cea4-5ca1-4b02-89ad-206e2a0e1991",
   "metadata": {},
   "outputs": [],
   "source": [
    "<table>\n",
    "    <tr valign=\"top\">\n",
    "        <td><img src=\"{{ user.avatar(128) }}\"></td>\n",
    "        <td><h1>User: {{ user.username }}</h1></td>\n",
    "    </tr>\n",
    "</table>"
   ]
  },
  {
   "cell_type": "markdown",
   "id": "29764ff7-a061-4358-b4c0-e3551056575e",
   "metadata": {},
   "source": [
    "- 위 코드와 같이 섹션을 나누어 아바타 추가\n",
    "- 위 코드를 작성한 만큼 섹션이 나누어짐"
   ]
  },
  {
   "cell_type": "markdown",
   "id": "96884b33-21be-47cd-978e-3580164e8d38",
   "metadata": {},
   "source": [
    "#### Using Jinja2 Sub-Templates"
   ]
  },
  {
   "cell_type": "markdown",
   "id": "5e3c28ed-299a-4ee5-a5af-454358f22af9",
   "metadata": {},
   "source": [
    "- sub-templates를 작성하여 변경하고자 하는 부분만 업데이트가 되도록 구현\n",
    "- template 폴더에 sub-templates 파일을 작성한 후, base.html에 링크\n"
   ]
  },
  {
   "cell_type": "code",
   "execution_count": null,
   "id": "e16b56d1-6f89-46df-a4e7-3a3694594b43",
   "metadata": {},
   "outputs": [],
   "source": [
    "ex) _post.html\n",
    "    <table>\n",
    "        <tr valign=\"top\">\n",
    "            <td><img src=\"{{ post.author.avatar(36) }}\"></td>\n",
    "            <td>{{ post.author.username }} says:<br>{{ post.body }}</td>\n",
    "        </tr>\n",
    "    </table>"
   ]
  },
  {
   "cell_type": "markdown",
   "id": "bde22f6e-c630-4a4b-87f2-85196e88d3ca",
   "metadata": {},
   "source": [
    "#### More Interesting Profiles"
   ]
  },
  {
   "cell_type": "markdown",
   "id": "6d36d7ad-b8b2-4ae3-9df1-94e56002fa2d",
   "metadata": {},
   "source": [
    "- 프로필에 사용자가 사이트에 마지막으로 접속한 시간을 표시하는 등 더 많은 정보를 표시할 수 있음\n"
   ]
  },
  {
   "cell_type": "markdown",
   "id": "fe023226-30f5-4e49-b1c1-d10d7716b283",
   "metadata": {},
   "source": [
    "##### Migration"
   ]
  },
  {
   "cell_type": "markdown",
   "id": "01071b1b-7288-49ae-83d2-8d9db116f3c8",
   "metadata": {},
   "source": [
    "- 데이터베이스가 수정될 때마다 데이터베이스 마이그레이션을 생성\n",
    "- 데이터를 파괴하지 않고, Migration script의 변경 사항을 적용할 수 있음"
   ]
  },
  {
   "cell_type": "code",
   "execution_count": null,
   "id": "b4828964-a89a-484c-aad6-dbc6ad5636f9",
   "metadata": {},
   "outputs": [],
   "source": [
    "$ flask db migrate -m \"new fields in user model\""
   ]
  },
  {
   "cell_type": "markdown",
   "id": "0fda2565-b4e4-4de1-a642-71b8e2d9e8a7",
   "metadata": {},
   "source": [
    "#### Recording The Last Visit Time For a User"
   ]
  },
  {
   "cell_type": "markdown",
   "id": "7e174b73-5204-492d-92b5-3f40e9aeeb41",
   "metadata": {},
   "source": [
    "- 사용자가 서버에 요청할 때마다 시간을 표시해주는 기능"
   ]
  },
  {
   "cell_type": "code",
   "execution_count": null,
   "id": "aa690caa-09ab-4f62-a99d-1b9f751eb960",
   "metadata": {},
   "outputs": [],
   "source": [
    "@app.before_request\n",
    "def before_request():\n",
    "    if current_user.is_authenticated:\n",
    "        current_user.last_seen = datetime.utcnow()\n",
    "        db.session.commit()"
   ]
  },
  {
   "cell_type": "markdown",
   "id": "1bc3f002-b9da-43cd-a0d6-2ba7b970061b",
   "metadata": {},
   "source": [
    "# Profile Editor"
   ]
  },
  {
   "cell_type": "code",
   "execution_count": null,
   "id": "65290a04-d1be-4d16-9b3c-83107f005af8",
   "metadata": {},
   "outputs": [],
   "source": [
    "- 사용자가 자신의 정보를 입력할 수 있는 기능"
   ]
  },
  {
   "cell_type": "code",
   "execution_count": null,
   "id": "7052856e-e157-42c6-812f-f201e7e79493",
   "metadata": {},
   "outputs": [],
   "source": [
    "def edit_profile():\n",
    "    form = EditProfileForm()\n",
    "    if form.validate_on_submit():\n",
    "        current_user.username = form.username.data\n",
    "        current_user.about_me = form.about_me.data\n",
    "        db.session.commit()\n",
    "        flash('Your changes have been saved.')\n",
    "        return redirect(url_for('edit_profile'))\n",
    "    elif request.method == 'GET':\n",
    "        form.username.data = current_user.username\n",
    "        form.about_me.data = current_user.about_me\n",
    "    return render_template('edit_profile.html', title='Edit Profile',\n",
    "                           form=form)"
   ]
  },
  {
   "cell_type": "markdown",
   "id": "82cff8d0-c1b5-42da-98a9-b4d18d91c0be",
   "metadata": {},
   "source": [
    "- validate_on_submit()이 True를 반환하면 데이터베이스에 작성\n",
    "- validate_on_submit()이 False면 2가지 이유가 존재\n",
    "    1. 브라우저가 GET 요청을 보낸 경우\n",
    "    2. 브라우저가 데이터와 함께 POST 요청을 보냈지만 데이터가 잘못된 경우"
   ]
  },
  {
   "cell_type": "code",
   "execution_count": null,
   "id": "e79d379b-2fd6-4c29-9f10-a764b38d3dc4",
   "metadata": {},
   "outputs": [],
   "source": []
  }
 ],
 "metadata": {
  "kernelspec": {
   "display_name": "Python 3",
   "language": "python",
   "name": "python3"
  },
  "language_info": {
   "codemirror_mode": {
    "name": "ipython",
    "version": 3
   },
   "file_extension": ".py",
   "mimetype": "text/x-python",
   "name": "python",
   "nbconvert_exporter": "python",
   "pygments_lexer": "ipython3",
   "version": "3.8.8"
  }
 },
 "nbformat": 4,
 "nbformat_minor": 5
}
