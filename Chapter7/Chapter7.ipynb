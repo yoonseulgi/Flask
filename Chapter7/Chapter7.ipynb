{
 "cells": [
  {
   "cell_type": "markdown",
   "id": "6fe3f0fe-e108-4fbb-9feb-c60fd0dddebc",
   "metadata": {},
   "source": [
    "# 7장. Error Handling"
   ]
  },
  {
   "cell_type": "markdown",
   "id": "9d6f2c00-7f7d-4123-9746-c7b33492a940",
   "metadata": {},
   "source": [
    "- 응용 프로그램이 실행 중인 터미널 세션을 보면 오류 추적 가능\n",
    "- 사용자에게는 최소한의 오류 정보를 제공(보안성 향상)\n",
    "- 오류의 세부 정보는 서버 or 로그 파일에서 제공\n",
    "- 모든 오류는 터미널에 저장"
   ]
  },
  {
   "cell_type": "markdown",
   "id": "456941c2-9411-427c-9e72-1183615c0436",
   "metadata": {},
   "source": [
    "#### Debug Mode"
   ]
  },
  {
   "cell_type": "markdown",
   "id": "5e2af0c3-1585-480d-9d1e-45d137979480",
   "metadata": {},
   "source": [
    "- 응용 프로그램에 상세한 오류 정보 제공\n",
    "- 아래와 같은 설정과정이 필요"
   ]
  },
  {
   "cell_type": "markdown",
   "id": "19ce7fb7-475c-4572-b947-9a5e984a21a4",
   "metadata": {},
   "source": [
    "```shell\n",
    "$ set FLASK_ENV=development\n",
    "```"
   ]
  },
  {
   "cell_type": "markdown",
   "id": "a1cb45f9-4f57-41ba-8b00-1c608b3c5551",
   "metadata": {},
   "source": [
    "- 디버그는 스택 프레임 확장하여 소스 코드 확인 가능\n",
    "- 디버그는 상세한 오류 정보를 제공하기에 악의적인 접근이 가능\n",
    "- 악의적인 접근을 막기 위해 block 상태로 시작 및 브러우저 로드 시 PIN 번호 요구\n",
    "- 응용프로그램이 업데이트될 때마다 디버그에 자동 반영"
   ]
  },
  {
   "cell_type": "markdown",
   "id": "08e6e56a-d5e6-4af3-96e5-7e537a58ac07",
   "metadata": {},
   "source": [
    "#### Custom Error Pages"
   ]
  },
  {
   "cell_type": "markdown",
   "id": "21ab5966-0798-4998-97b1-69fd8fb0a3af",
   "metadata": {},
   "source": [
    "- 사용자 정의 오류 핸들러를 선언\n",
    "- 데코레이터 사용\n",
    "- 본 단원에선 404, 500 오류만 확인\n",
    "  (500 오류는 데이터베이스 오류 후에 호출)"
   ]
  },
  {
   "cell_type": "markdown",
   "id": "e0e637ce-4252-4d6a-bb22-3cb2a3e6a78c",
   "metadata": {},
   "source": [
    "ex)\n",
    "``` python\n",
    "@app.errorhandler(404)\n",
    "@app.errorhandler(500)\n",
    "```"
   ]
  },
  {
   "cell_type": "markdown",
   "id": "791705f8-26ec-4cde-8e8d-32163c88e6eb",
   "metadata": {},
   "source": [
    "- 오류 정보를 제공하는 브라우저 __'404.html, 500.html'__ 작성 "
   ]
  },
  {
   "cell_type": "markdown",
   "id": "6962e60d-74fa-431f-bc93-0af540cf76a3",
   "metadata": {},
   "source": [
    "#### Sending Error by Email"
   ]
  },
  {
   "cell_type": "markdown",
   "id": "655bcadf-7b68-4846-bbaa-32bf5ce29101",
   "metadata": {},
   "source": [
    "- 오류는 능동적인 관리가 중요\n",
    "- 기본 디버그는 알림 기능을 제공하지 않음\n",
    "- 오류 발생시 메일로 전송하는 기능 추가\n",
    "- 단, Gmail 계정 보안 기능으로 오류 로그를 전송하지 못할 가능성 존재"
   ]
  },
  {
   "cell_type": "markdown",
   "id": "32742eaa-1a74-4673-9b78-97867b581ffa",
   "metadata": {},
   "source": [
    "```python\n",
    "class Config(object):\n",
    "    \n",
    "    MAIL_SERVER = os.environ.get('MAIL_SERVER')\n",
    "    MAIL_PORT = int(os.environ.get('MAIL_PORT') or 25)\n",
    "    MAIL_USE_TLS = os.environ.get('MAIL_USE_TLS') is not None\n",
    "    MAIL_USERNAME = os.environ.get('MAIL_USERNAME')\n",
    "    MAIL_PASSWORD = os.environ.get('MAIL_PASSWORD')\n",
    "    ADMINS = ['your-email@example.com']\n",
    "```"
   ]
  },
  {
   "cell_type": "markdown",
   "id": "225aaf9e-ad92-4ee5-a23a-5f0a18871f3f",
   "metadata": {},
   "source": [
    "- 이메일 세부 정보를 __config.py__ 파일에 추가\n",
    "- python의 logging 패키지를 사용해 이메일로 오류 로그 보내는 기능 구현\n",
    "- 아래 코드를 __init.py__ 파일에 추가함으로 오류 로그를 메일로 전송하는 기능을 간단하게 구현 가능 "
   ]
  },
  {
   "cell_type": "markdown",
   "id": "e7c239cc-3d04-4e83-98fc-9af2217cc1ba",
   "metadata": {},
   "source": [
    "```python\n",
    "from logging.handlers import SMTPHandler\n",
    "```"
   ]
  },
  {
   "cell_type": "markdown",
   "id": "fc3281d1-cbd0-4150-a90a-dea9716b4bae",
   "metadata": {},
   "source": [
    "- 아래 코드를 사용해 터미널에서 이메일 로거를 활성화"
   ]
  },
  {
   "cell_type": "markdown",
   "id": "5cfe1f8a-88ac-4448-9f55-ea86abae96be",
   "metadata": {},
   "source": [
    "```shell\n",
    "$ python -m smtpd -n -c DebuggingServer localhost:8025\n",
    "```"
   ]
  },
  {
   "cell_type": "markdown",
   "id": "b63f1e6b-a0dd-4e0f-877b-77ae293b3a95",
   "metadata": {},
   "source": [
    "#### Logging to a File"
   ]
  },
  {
   "cell_type": "markdown",
   "id": "d41ebdc3-2481-4367-89c7-d4dc7723f2fd",
   "metadata": {},
   "source": [
    "- 응용 프로그램에 대한 로그 파일 유지 관리"
   ]
  },
  {
   "cell_type": "markdown",
   "id": "bd533ada-3fc8-4b8b-957e-d9701eb81b9e",
   "metadata": {},
   "source": [
    "```python\n",
    "if not os.path.exists('logs'):\n",
    "        os.mkdir('logs')\n",
    "    file_handler = RotatingFileHandler('logs/microblog.log', maxBytes=10240,\n",
    "                                       backupCount=10)\n",
    "    file_handler.setFormatter(logging.Formatter(\n",
    "        '%(asctime)s %(levelname)s: %(message)s [in %(pathname)s:%(lineno)d]'))\n",
    "    file_handler.setLevel(logging.INFO)\n",
    "    app.logger.addHandler(file_handler)\n",
    "\n",
    "    app.logger.setLevel(logging.INFO)\n",
    "    app.logger.info('Microblog startup')\n",
    "```"
   ]
  },
  {
   "cell_type": "markdown",
   "id": "4e2de84f-f874-476c-bf4d-b1d7f2665955",
   "metadata": {},
   "source": [
    "- __microblog.log__ 를 log 디렉토리에 생성\n",
    "- __RotatingFileHandler__ 클래스는 로그 파일의 크기가 너무 커지지 않도록 하는 클래스(10KB크기로 유지, 나머지 log 정보는 백업 파일에 보관)\n",
    "- __logger.addHandler__ 클래스는 로그 메시지에 대한 사용자 지정 클래스 \n",
    "  파일에 타임스탬프, 소스 파일, 로그 항목 등 다양한 정보를 담고 있음"
   ]
  },
  {
   "cell_type": "markdown",
   "id": "13ad6be9-23c1-442d-8248-75b7f037a34a",
   "metadata": {},
   "source": [
    "#### Fixing the Duplicate Username Bug"
   ]
  },
  {
   "cell_type": "markdown",
   "id": "eba6141a-0704-4259-919a-82bc2a3b94d0",
   "metadata": {},
   "source": [
    "- 사용자 이름이 중복저장되는 버그 해결\n",
    "- 사용자 이름을 사용해도 되는지 유효성 검사"
   ]
  },
  {
   "cell_type": "markdown",
   "id": "63a7772e-c6dc-45f1-80cb-33217647661f",
   "metadata": {},
   "source": [
    "```python\n",
    "    def validate_username(self, username):\n",
    "        if username.data != self.original_username:\n",
    "            user = User.query.filter_by(username=self.username.data).first()\n",
    "            if user is not None:\n",
    "                raise ValidationError('Please use a different username.')\n",
    "```"
   ]
  },
  {
   "cell_type": "markdown",
   "id": "6ad82e4d-64c4-4695-8120-96b67e4931b5",
   "metadata": {},
   "source": [
    "- 사용자의 이름을 변수로 받아 현재 사용자의 이름과 같다면 사용자의 이름이 중복인지 확인할 필요 없음.\n",
    "- 위와 같은 기능으로 함수를 사용하려면 사용자 이름을 인수로 추가"
   ]
  }
 ],
 "metadata": {
  "kernelspec": {
   "display_name": "Python 3",
   "language": "python",
   "name": "python3"
  },
  "language_info": {
   "codemirror_mode": {
    "name": "ipython",
    "version": 3
   },
   "file_extension": ".py",
   "mimetype": "text/x-python",
   "name": "python",
   "nbconvert_exporter": "python",
   "pygments_lexer": "ipython3",
   "version": "3.8.8"
  }
 },
 "nbformat": 4,
 "nbformat_minor": 5
}
