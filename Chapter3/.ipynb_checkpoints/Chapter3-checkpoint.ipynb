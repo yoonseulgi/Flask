{
 "cells": [
  {
   "cell_type": "markdown",
   "id": "0f2bcd36-d196-4fd6-87a2-79ff3aee1b61",
   "metadata": {},
   "source": [
    "# 3장. Web Forms"
   ]
  },
  {
   "cell_type": "markdown",
   "id": "f6d7430c-6e01-4918-bec9-eb1768eaa708",
   "metadata": {},
   "source": [
    "* Flask-WTF"
   ]
  },
  {
   "cell_type": "raw",
   "id": "00ec268b-c9c1-45d3-9872-0c580fe94cd6",
   "metadata": {},
   "source": [
    "- python class를 사용한 웹 양식\n",
    "- 파이썬 스크립트에서 양식 필드를 정의하고, HTML 템플릿을 사용하여 렌더링 가능\n",
    "- pip install flask-wtf"
   ]
  },
  {
   "cell_type": "markdown",
   "id": "3a732830-d80e-40cd-97ec-c9bbb57e2fcd",
   "metadata": {},
   "source": [
    "* app.config.py"
   ]
  },
  {
   "cell_type": "raw",
   "id": "62bea48b-c4c9-4f1b-936d-97cd17fac95c",
   "metadata": {},
   "source": [
    "- 앱을 자유롭게 사용하기 위한 전처리\n",
    "- 비밀 키를 설정\n",
    "- 문자를 나열하는 하드코딩 문제 해결\n",
    "- 비밀 키를 설정해줌으로 CSRF 공격으로부터 보호"
   ]
  },
  {
   "cell_type": "markdown",
   "id": "a8ebaac4-aca8-4587-950e-e4d9b38fa611",
   "metadata": {},
   "source": [
    "* User Login Form"
   ]
  },
  {
   "cell_type": "raw",
   "id": "7686e880-38c8-4565-89f3-07ce5ab084a7",
   "metadata": {},
   "source": [
    "- User의 로그인 화면 보여주는 코드"
   ]
  },
  {
   "cell_type": "markdown",
   "id": "2774dbea-b47a-424f-9d85-4d6f99595dab",
   "metadata": {},
   "source": [
    "* Form Templates"
   ]
  },
  {
   "cell_type": "raw",
   "id": "0fad0ce4-f5c8-4a09-b96c-9fdc97695076",
   "metadata": {},
   "source": [
    "- 웹 페이지에서 렌더링할 수 있도록 HTML 템플릿 양식을 추가하는 것\n",
    "- LoginForm 클래스에서 인스턴스화된 양식 개체가 형식으로 참조되는 것"
   ]
  },
  {
   "cell_type": "markdown",
   "id": "3b38a9cb-6d0a-45f0-bfec-3f67b3e0ccd0",
   "metadata": {},
   "source": [
    "* Form Views"
   ]
  },
  {
   "cell_type": "raw",
   "id": "b5452e0c-9826-4d34-9bba-37550e31f330",
   "metadata": {},
   "source": [
    "- 브라우저에서 양식을 볼 수 있게 하기 위한 단계\n",
    "- 양식을 생성하고, 렌더링을 위한 단계"
   ]
  },
  {
   "cell_type": "markdown",
   "id": "16daf43e-7d9f-400a-9c1a-a2303ac2add1",
   "metadata": {},
   "source": [
    "* Receiving Form Data"
   ]
  },
  {
   "cell_type": "raw",
   "id": "2c43ffd2-77a8-4fc1-9d43-17543f4bb5d1",
   "metadata": {},
   "source": [
    "- 사용자가 제출한 데이터를 받고, 유효성을 검사하는 기능"
   ]
  },
  {
   "cell_type": "markdown",
   "id": "91eb6d1d-2fc8-4735-9b21-8dbaaed02e08",
   "metadata": {},
   "source": [
    "* Improving Field Validation"
   ]
  },
  {
   "cell_type": "raw",
   "id": "c0e78dc5-f8aa-416f-b845-16fa4ff47117",
   "metadata": {},
   "source": [
    "- 유효하지 않은 데이터가 입력되는 것을 방지\n",
    "- 유효하지 않은 데이터가 입력됐을 때, 허용되는 단순한 양식을 가져옴"
   ]
  },
  {
   "cell_type": "markdown",
   "id": "cfc43aa1-cefe-45e8-8d07-e8cc7bb0cb49",
   "metadata": {},
   "source": [
    "* Generating Links"
   ]
  },
  {
   "cell_type": "code",
   "execution_count": null,
   "id": "ad1013cc-06af-4682-b09e-37939ed77f3c",
   "metadata": {},
   "outputs": [],
   "source": [
    "- 템플릿, 소스파일에 링크를 직접 작성하면 링크를 재구성할 때마다 작성된 링크를 교체해야 하는 문제점 존재\n",
    "- 위와 같은 문제를 해결하기 위해 url_for()함수를 제공"
   ]
  }
 ],
 "metadata": {
  "kernelspec": {
   "display_name": "Python 3",
   "language": "python",
   "name": "python3"
  },
  "language_info": {
   "codemirror_mode": {
    "name": "ipython",
    "version": 3
   },
   "file_extension": ".py",
   "mimetype": "text/x-python",
   "name": "python",
   "nbconvert_exporter": "python",
   "pygments_lexer": "ipython3",
   "version": "3.8.8"
  }
 },
 "nbformat": 4,
 "nbformat_minor": 5
}
